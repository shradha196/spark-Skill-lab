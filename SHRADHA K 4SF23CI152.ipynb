{
 "cells": [
  {
   "cell_type": "code",
   "execution_count": 0,
   "metadata": {
    "application/vnd.databricks.v1+cell": {
     "cellMetadata": {
      "byteLimit": 2048000,
      "rowLimit": 10000
     },
     "inputWidgets": {},
     "nuid": "b69750d3-3495-4678-b47c-fcfe298466dd",
     "showTitle": false,
     "tableResultSettingsMap": {},
     "title": ""
    }
   },
   "outputs": [
    {
     "output_type": "stream",
     "name": "stdout",
     "output_type": "stream",
     "text": [
      "+---+-------------+------------+-------------+------------+-----------+\n| Id|SepalLengthCm|SepalWidthCm|PetalLengthCm|PetalWidthCm|    Species|\n+---+-------------+------------+-------------+------------+-----------+\n|  1|          5.1|         3.5|          1.4|         0.2|Iris-setosa|\n|  2|          4.9|         3.0|          1.4|         0.2|Iris-setosa|\n|  3|          4.7|         3.2|          1.3|         0.2|Iris-setosa|\n|  4|          4.6|         3.1|          1.5|         0.2|Iris-setosa|\n|  5|          5.0|         3.6|          1.4|         0.2|Iris-setosa|\n+---+-------------+------------+-------------+------------+-----------+\nonly showing top 5 rows\n"
     ]
    }
   ],
   "source": [
    "#Read CSV dataset with PERMISSIVE mode to capture malformed records\n",
    "\n",
    "df_raw = spark.read \\\n",
    "    .option(\"header\", \"true\") \\\n",
    "    .option(\"inferSchema\", \"true\") \\\n",
    "    .option(\"mode\", \"PERMISSIVE\") \\\n",
    "    .csv(\"/Volumes/workspace/day1/data1/Iris.csv\")\n",
    "df_raw.show(5)\n"
   ]
  },
  {
   "cell_type": "code",
   "execution_count": 0,
   "metadata": {
    "application/vnd.databricks.v1+cell": {
     "cellMetadata": {
      "byteLimit": 2048000,
      "rowLimit": 10000
     },
     "inputWidgets": {},
     "nuid": "8c904c99-2208-426b-beaf-6d2a31debe85",
     "showTitle": false,
     "tableResultSettingsMap": {},
     "title": ""
    }
   },
   "outputs": [
    {
     "output_type": "stream",
     "name": "stdout",
     "output_type": "stream",
     "text": [
      "Columns: ['Id', 'SepalLengthCm', 'SepalWidthCm', 'PetalLengthCm', 'PetalWidthCm', 'Species']\nRow count: 150\nroot\n |-- Id: integer (nullable = true)\n |-- SepalLengthCm: double (nullable = true)\n |-- SepalWidthCm: double (nullable = true)\n |-- PetalLengthCm: double (nullable = true)\n |-- PetalWidthCm: double (nullable = true)\n |-- Species: string (nullable = true)\n\nNumber of columns: 6\n"
     ]
    }
   ],
   "source": [
    "# a. Print all column names\n",
    "print(\"Columns:\", df_raw.columns)\n",
    "# b. Count total rows\n",
    "print(\"Row count:\", df_raw.count())\n",
    "# c. Display schema structure\n",
    "df_raw.printSchema()\n",
    "# d. Print the number of columns\n",
    "print(\"Number of columns:\", len(df_raw.columns))"
   ]
  },
  {
   "cell_type": "code",
   "execution_count": 0,
   "metadata": {
    "application/vnd.databricks.v1+cell": {
     "cellMetadata": {
      "byteLimit": 2048000,
      "rowLimit": 10000
     },
     "inputWidgets": {},
     "nuid": "da689bf4-9917-4935-be7f-d93a0ee2c845",
     "showTitle": false,
     "tableResultSettingsMap": {},
     "title": ""
    }
   },
   "outputs": [
    {
     "output_type": "stream",
     "name": "stdout",
     "output_type": "stream",
     "text": [
      "No '_corrupt_record' column detected — no malformed records or clean dataset.\n"
     ]
    }
   ],
   "source": [
    "from pyspark.sql.functions import col\n",
    "\n",
    "if \"_corrupt_record\" in df_raw.columns:\n",
    "    corrupt = df_raw.filter(col(\"_corrupt_record\").isNotNull())\n",
    "    print(\"Corrupted records found:\")\n",
    "    corrupt.show(truncate=False)\n",
    "else:\n",
    "    print(\"No '_corrupt_record' column detected — no malformed records or clean dataset.\")"
   ]
  },
  {
   "cell_type": "code",
   "execution_count": 0,
   "metadata": {
    "application/vnd.databricks.v1+cell": {
     "cellMetadata": {
      "byteLimit": 2048000,
      "rowLimit": 10000
     },
     "inputWidgets": {},
     "nuid": "fbc2e481-7d50-443b-9dd7-286698773f61",
     "showTitle": false,
     "tableResultSettingsMap": {},
     "title": ""
    }
   },
   "outputs": [
    {
     "output_type": "stream",
     "name": "stdout",
     "output_type": "stream",
     "text": [
      "root\n |-- sepal_length: double (nullable = true)\n |-- sepal_width: double (nullable = true)\n |-- petal_length: double (nullable = true)\n |-- petal_width: double (nullable = true)\n |-- species: string (nullable = true)\n\n"
     ]
    }
   ],
   "source": [
    "from pyspark.sql.types import StructType, StructField, StringType, DoubleType\n",
    "# Define explicit schema for Iris dataset\n",
    "custom_schema = StructType([\n",
    "    StructField(\"sepal_length\", DoubleType(), True),\n",
    "    StructField(\"sepal_width\", DoubleType(), True),\n",
    "    StructField(\"petal_length\", DoubleType(), True),\n",
    "    StructField(\"petal_width\", DoubleType(), True),\n",
    "    StructField(\"species\", StringType(), True)\n",
    "])\n",
    "df = spark.read \\\n",
    "    .option(\"header\", \"true\") \\\n",
    "    .option(\"mode\", \"PERMISSIVE\") \\\n",
    "    .schema(custom_schema) \\\n",
    "    .csv(\"/Volumes/workspace/day1/data1/Iris.csv\")\n",
    "df.printSchema()\n"
   ]
  },
  {
   "cell_type": "code",
   "execution_count": 0,
   "metadata": {
    "application/vnd.databricks.v1+cell": {
     "cellMetadata": {
      "byteLimit": 2048000,
      "rowLimit": 10000
     },
     "inputWidgets": {},
     "nuid": "3a5731c5-7d4d-475d-a26f-b9a5718dad35",
     "showTitle": false,
     "tableResultSettingsMap": {},
     "title": ""
    }
   },
   "outputs": [
    {
     "output_type": "display_data",
     "data": {
      "text/html": [
       "<style scoped>\n",
       "  .table-result-container {\n",
       "    max-height: 300px;\n",
       "    overflow: auto;\n",
       "  }\n",
       "  table, th, td {\n",
       "    border: 1px solid black;\n",
       "    border-collapse: collapse;\n",
       "  }\n",
       "  th, td {\n",
       "    padding: 5px;\n",
       "  }\n",
       "  th {\n",
       "    text-align: left;\n",
       "  }\n",
       "</style><div class='table-result-container'><table class='table-result'><thead style='background-color: white'><tr><th>sepal_len</th><th>petal_length</th><th>petal_width</th><th>species</th><th>petal_area</th><th>dataset_name</th><th>sepal_len_cm</th></tr></thead><tbody><tr><td>5.0</td><td>3.6</td><td>1.4</td><td>0.2</td><td>5.04</td><td>Iris Dataset</td><td>5.0</td></tr><tr><td>6.0</td><td>3.9</td><td>1.7</td><td>0.4</td><td>6.63</td><td>Iris Dataset</td><td>6.0</td></tr><tr><td>7.0</td><td>3.4</td><td>1.4</td><td>0.3</td><td>4.76</td><td>Iris Dataset</td><td>7.0</td></tr><tr><td>8.0</td><td>3.4</td><td>1.5</td><td>0.2</td><td>5.1</td><td>Iris Dataset</td><td>8.0</td></tr><tr><td>9.0</td><td>2.9</td><td>1.4</td><td>0.2</td><td>4.06</td><td>Iris Dataset</td><td>9.0</td></tr></tbody></table></div>"
      ]
     },
     "metadata": {
      "application/vnd.databricks.v1+output": {
       "addedWidgets": {},
       "aggData": [],
       "aggError": "",
       "aggOverflow": false,
       "aggSchema": [],
       "aggSeriesLimitReached": false,
       "aggType": "",
       "arguments": {},
       "columnCustomDisplayInfos": {},
       "data": [
        [
         5.0,
         3.6,
         1.4,
         "0.2",
         5.04,
         "Iris Dataset",
         5.0
        ],
        [
         6.0,
         3.9,
         1.7,
         "0.4",
         6.63,
         "Iris Dataset",
         6.0
        ],
        [
         7.0,
         3.4,
         1.4,
         "0.3",
         4.76,
         "Iris Dataset",
         7.0
        ],
        [
         8.0,
         3.4,
         1.5,
         "0.2",
         5.1,
         "Iris Dataset",
         8.0
        ],
        [
         9.0,
         2.9,
         1.4,
         "0.2",
         4.06,
         "Iris Dataset",
         9.0
        ]
       ],
       "datasetInfos": [],
       "dbfsResultPath": null,
       "isJsonSchema": true,
       "metadata": {},
       "overflow": false,
       "plotOptions": {
        "customPlotOptions": {},
        "displayType": "table",
        "pivotAggregation": null,
        "pivotColumns": null,
        "xColumns": null,
        "yColumns": null
       },
       "removedWidgets": [],
       "schema": [
        {
         "metadata": "{}",
         "name": "sepal_len",
         "type": "\"double\""
        },
        {
         "metadata": "{}",
         "name": "petal_length",
         "type": "\"double\""
        },
        {
         "metadata": "{}",
         "name": "petal_width",
         "type": "\"double\""
        },
        {
         "metadata": "{}",
         "name": "species",
         "type": "\"string\""
        },
        {
         "metadata": "{}",
         "name": "petal_area",
         "type": "\"double\""
        },
        {
         "metadata": "{}",
         "name": "dataset_name",
         "type": "\"string\""
        },
        {
         "metadata": "{}",
         "name": "sepal_len_cm",
         "type": "\"double\""
        }
       ],
       "type": "table"
      }
     },
     "output_type": "display_data"
    }
   ],
   "source": [
    "from pyspark.sql.functions import col, lit, round\n",
    "from pyspark.sql.types import DoubleType\n",
    "df_transformed = (\n",
    "    df\n",
    "    # Rename columns\n",
    "    .withColumnRenamed(\"sepal_length\", \"sepal_len\")\n",
    "    .withColumnRenamed(\"sepal_width\", \"sepal_wid\")\n",
    "    # Derived column\n",
    "    .withColumn(\"petal_area\", round(col(\"petal_length\") * col(\"petal_width\"), 2))\n",
    "    # Filter rows\n",
    "    .filter(col(\"sepal_len\") > 4.0)\n",
    "    # Add constant column\n",
    "    .withColumn(\"dataset_name\", lit(\"Iris Dataset\"))\n",
    "    # Cast type\n",
    "    .withColumn(\"sepal_len_cm\", col(\"sepal_len\").cast(DoubleType()))\n",
    "    # Remove unnecessary column\n",
    "    .drop(\"sepal_wid\")\n",
    ")\n",
    "display(df_transformed.limit(5))"
   ]
  },
  {
   "cell_type": "code",
   "execution_count": 0,
   "metadata": {
    "application/vnd.databricks.v1+cell": {
     "cellMetadata": {
      "byteLimit": 2048000,
      "rowLimit": 10000
     },
     "inputWidgets": {},
     "nuid": "19f51363-938c-487a-aae7-d0ce22943aa0",
     "showTitle": false,
     "tableResultSettingsMap": {},
     "title": ""
    }
   },
   "outputs": [
    {
     "output_type": "stream",
     "name": "stdout",
     "output_type": "stream",
     "text": [
      "Null counts by column:\nsepal_len: 0\npetal_length: 0\npetal_width: 0\nspecies: 0\npetal_area: 0\ndataset_name: 0\nsepal_len_cm: 0\n"
     ]
    }
   ],
   "source": [
    "# Identify nulls in each column\n",
    "from pyspark.sql.functions import col\n",
    "print(\"Null counts by column:\")\n",
    "for c in df_transformed.columns:\n",
    "    n_null = df_transformed.filter(col(c).isNull()).count()\n",
    "    print(f\"{c}: {n_null}\")\n",
    "# Fill or drop nulls (if any)\n",
    "df_clean = df_transformed.na.fill({\n",
    "    \"petal_area\": 0.0,\n",
    "    \"sepal_len_cm\": 0.0\n",
    "})"
   ]
  },
  {
   "cell_type": "code",
   "execution_count": 0,
   "metadata": {
    "application/vnd.databricks.v1+cell": {
     "cellMetadata": {
      "byteLimit": 2048000,
      "rowLimit": 10000
     },
     "inputWidgets": {},
     "nuid": "0f2b8581-cf7d-4005-8f2f-01912b03ed59",
     "showTitle": false,
     "tableResultSettingsMap": {},
     "title": ""
    }
   },
   "outputs": [
    {
     "output_type": "stream",
     "name": "stdout",
     "output_type": "stream",
     "text": [
      "Row count before removing duplicates: 146\nDuplicate records count: 0\n"
     ]
    },
    {
     "output_type": "display_data",
     "data": {
      "text/html": [
       "<style scoped>\n",
       "  .table-result-container {\n",
       "    max-height: 300px;\n",
       "    overflow: auto;\n",
       "  }\n",
       "  table, th, td {\n",
       "    border: 1px solid black;\n",
       "    border-collapse: collapse;\n",
       "  }\n",
       "  th, td {\n",
       "    padding: 5px;\n",
       "  }\n",
       "  th {\n",
       "    text-align: left;\n",
       "  }\n",
       "</style><div class='table-result-container'><table class='table-result'><thead style='background-color: white'><tr><th>sepal_len</th><th>petal_length</th><th>petal_width</th><th>species</th><th>petal_area</th><th>dataset_name</th><th>sepal_len_cm</th></tr></thead><tbody></tbody></table></div>"
      ]
     },
     "metadata": {
      "application/vnd.databricks.v1+output": {
       "addedWidgets": {},
       "aggData": [],
       "aggError": "",
       "aggOverflow": false,
       "aggSchema": [],
       "aggSeriesLimitReached": false,
       "aggType": "",
       "arguments": {},
       "columnCustomDisplayInfos": {},
       "data": [],
       "datasetInfos": [],
       "dbfsResultPath": null,
       "isJsonSchema": true,
       "metadata": {},
       "overflow": false,
       "plotOptions": {
        "customPlotOptions": {},
        "displayType": "table",
        "pivotAggregation": null,
        "pivotColumns": null,
        "xColumns": null,
        "yColumns": null
       },
       "removedWidgets": [],
       "schema": [
        {
         "metadata": "{}",
         "name": "sepal_len",
         "type": "\"double\""
        },
        {
         "metadata": "{}",
         "name": "petal_length",
         "type": "\"double\""
        },
        {
         "metadata": "{}",
         "name": "petal_width",
         "type": "\"double\""
        },
        {
         "metadata": "{}",
         "name": "species",
         "type": "\"string\""
        },
        {
         "metadata": "{}",
         "name": "petal_area",
         "type": "\"double\""
        },
        {
         "metadata": "{}",
         "name": "dataset_name",
         "type": "\"string\""
        },
        {
         "metadata": "{}",
         "name": "sepal_len_cm",
         "type": "\"double\""
        }
       ],
       "type": "table"
      }
     },
     "output_type": "display_data"
    },
    {
     "output_type": "stream",
     "name": "stdout",
     "output_type": "stream",
     "text": [
      "After removing duplicates: 146\n"
     ]
    }
   ],
   "source": [
    "print(\"Row count before removing duplicates:\", df_clean.count())\n",
    "df_duplicates = df_clean.exceptAll(df_clean.dropDuplicates())\n",
    "print(\"Duplicate records count:\", df_duplicates.count())\n",
    "display(df_duplicates)\n",
    "df_nodup = df_clean.dropDuplicates()\n",
    "print(\"After removing duplicates:\", df_nodup.count())"
   ]
  },
  {
   "cell_type": "code",
   "execution_count": 0,
   "metadata": {
    "application/vnd.databricks.v1+cell": {
     "cellMetadata": {
      "byteLimit": 2048000,
      "rowLimit": 10000
     },
     "inputWidgets": {},
     "nuid": "448c0543-d7fa-44b1-982d-33f23cf5f94a",
     "showTitle": false,
     "tableResultSettingsMap": {},
     "title": ""
    }
   },
   "outputs": [
    {
     "output_type": "stream",
     "name": "stdout",
     "output_type": "stream",
     "text": [
      "Processed data saved to: /Volumes/workspace/day1/data1/iris_cleaned_parquet\n"
     ]
    },
    {
     "output_type": "display_data",
     "data": {
      "text/html": [
       "<style scoped>\n",
       "  .table-result-container {\n",
       "    max-height: 300px;\n",
       "    overflow: auto;\n",
       "  }\n",
       "  table, th, td {\n",
       "    border: 1px solid black;\n",
       "    border-collapse: collapse;\n",
       "  }\n",
       "  th, td {\n",
       "    padding: 5px;\n",
       "  }\n",
       "  th {\n",
       "    text-align: left;\n",
       "  }\n",
       "</style><div class='table-result-container'><table class='table-result'><thead style='background-color: white'><tr><th>sepal_len</th><th>petal_length</th><th>petal_width</th><th>species</th><th>petal_area</th><th>dataset_name</th><th>sepal_len_cm</th></tr></thead><tbody><tr><td>118.0</td><td>3.8</td><td>6.7</td><td>2.2</td><td>25.46</td><td>Iris Dataset</td><td>118.0</td></tr><tr><td>24.0</td><td>3.3</td><td>1.7</td><td>0.5</td><td>5.61</td><td>Iris Dataset</td><td>24.0</td></tr><tr><td>23.0</td><td>3.6</td><td>1.0</td><td>0.2</td><td>3.6</td><td>Iris Dataset</td><td>23.0</td></tr><tr><td>17.0</td><td>3.9</td><td>1.3</td><td>0.4</td><td>5.07</td><td>Iris Dataset</td><td>17.0</td></tr><tr><td>65.0</td><td>2.9</td><td>3.6</td><td>1.3</td><td>10.44</td><td>Iris Dataset</td><td>65.0</td></tr></tbody></table></div>"
      ]
     },
     "metadata": {
      "application/vnd.databricks.v1+output": {
       "addedWidgets": {},
       "aggData": [],
       "aggError": "",
       "aggOverflow": false,
       "aggSchema": [],
       "aggSeriesLimitReached": false,
       "aggType": "",
       "arguments": {},
       "columnCustomDisplayInfos": {},
       "data": [
        [
         118.0,
         3.8,
         6.7,
         "2.2",
         25.46,
         "Iris Dataset",
         118.0
        ],
        [
         24.0,
         3.3,
         1.7,
         "0.5",
         5.61,
         "Iris Dataset",
         24.0
        ],
        [
         23.0,
         3.6,
         1.0,
         "0.2",
         3.6,
         "Iris Dataset",
         23.0
        ],
        [
         17.0,
         3.9,
         1.3,
         "0.4",
         5.07,
         "Iris Dataset",
         17.0
        ],
        [
         65.0,
         2.9,
         3.6,
         "1.3",
         10.44,
         "Iris Dataset",
         65.0
        ]
       ],
       "datasetInfos": [],
       "dbfsResultPath": null,
       "isJsonSchema": true,
       "metadata": {},
       "overflow": false,
       "plotOptions": {
        "customPlotOptions": {},
        "displayType": "table",
        "pivotAggregation": null,
        "pivotColumns": null,
        "xColumns": null,
        "yColumns": null
       },
       "removedWidgets": [],
       "schema": [
        {
         "metadata": "{}",
         "name": "sepal_len",
         "type": "\"double\""
        },
        {
         "metadata": "{}",
         "name": "petal_length",
         "type": "\"double\""
        },
        {
         "metadata": "{}",
         "name": "petal_width",
         "type": "\"double\""
        },
        {
         "metadata": "{}",
         "name": "species",
         "type": "\"string\""
        },
        {
         "metadata": "{}",
         "name": "petal_area",
         "type": "\"double\""
        },
        {
         "metadata": "{}",
         "name": "dataset_name",
         "type": "\"string\""
        },
        {
         "metadata": "{}",
         "name": "sepal_len_cm",
         "type": "\"double\""
        }
       ],
       "type": "table"
      }
     },
     "output_type": "display_data"
    }
   ],
   "source": [
    "output_path = \"/Volumes/workspace/day1/data1/iris_cleaned_parquet\"\n",
    "\n",
    "df_nodup.write.mode(\"overwrite\").parquet(output_path)\n",
    "\n",
    "print(f\"Processed data saved to: {output_path}\")\n",
    "\n",
    "# Display sample data from the saved parquet file\n",
    "df_sample = spark.read.parquet(output_path).limit(5)\n",
    "display(df_sample)"
   ]
  },
  {
   "cell_type": "code",
   "execution_count": 0,
   "metadata": {
    "application/vnd.databricks.v1+cell": {
     "cellMetadata": {
      "byteLimit": 2048000,
      "rowLimit": 10000
     },
     "inputWidgets": {},
     "nuid": "171050a1-8e7b-4bec-b7fa-09f57bf75fc3",
     "showTitle": false,
     "tableResultSettingsMap": {},
     "title": ""
    }
   },
   "outputs": [],
   "source": []
  }
 ],
 "metadata": {
  "application/vnd.databricks.v1+notebook": {
   "computePreferences": null,
   "dashboards": [],
   "environmentMetadata": {
    "base_environment": "",
    "environment_version": "4"
   },
   "inputWidgetPreferences": null,
   "language": "python",
   "notebookMetadata": {
    "pythonIndentUnit": 4
   },
   "notebookName": "SHRADHA K 4SF23CI152",
   "widgets": {}
  },
  "language_info": {
   "name": "python"
  }
 },
 "nbformat": 4,
 "nbformat_minor": 0
}